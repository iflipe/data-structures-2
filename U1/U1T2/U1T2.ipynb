{
 "cells": [
  {
   "cell_type": "markdown",
   "metadata": {},
   "source": [
    "# U1T2 - Co-authorship \n",
    "\n",
    "## Overview\n",
    "\n",
    "This notebook uses data obtained from [Scopus](http://scopus.com) database to build and analyze a co-authorship network for publications in the area of engineering at [UFRN](http://ufrn.br).\n",
    "\n",
    "## Browse\n",
    "* [Data](#the-data)\n",
    "* [Network](#the-network)\n",
    "    * [Ranking](#ranking)\n",
    "    * [Subgraphing](#subgraphing)\n",
    "    * [Stats](#stats)\n",
    "    * [Visualizations](#visualizations)"
   ]
  },
  {
   "cell_type": "markdown",
   "metadata": {
    "vscode": {
     "languageId": "plaintext"
    }
   },
   "source": [
    "## The Data\n",
    "\n",
    "The data studied consists of info about 3,666 publications by researchers at UFRN in the sub-area of engineering. For each publication, there are information about the authors, title, year of publication, number of citations, keywords and funding."
   ]
  },
  {
   "cell_type": "code",
   "execution_count": 1,
   "metadata": {},
   "outputs": [],
   "source": [
    "import pandas as pd\n",
    "import networkx as nx\n",
    "import matplotlib.pyplot as plt\n",
    "from itertools import combinations"
   ]
  },
  {
   "cell_type": "code",
   "execution_count": 2,
   "metadata": {},
   "outputs": [],
   "source": [
    "# Creates a dataframe from the csv file\n",
    "df = pd.read_csv('assets/ufrn_engineering_data.csv')\n",
    "\n",
    "# Creates a graph\n",
    "G = nx.Graph()\n",
    "\n",
    "# Defines the maximum number of 'top' nodes to show on visualizations\n",
    "TOP_NODES = 3"
   ]
  },
  {
   "cell_type": "code",
   "execution_count": 3,
   "metadata": {},
   "outputs": [],
   "source": [
    "# Extracts the list of authors from the dataframe\n",
    "authors_list = df['Author full names'].str.split('; ')\n",
    "\n",
    "# Cleans the dataframe from unused columns\n",
    "df.drop(columns=['Author full names', 'Funding Details', 'Link', 'Index Keywords'], inplace=True)\n",
    "\n",
    "# Creates a new column with the number of authors in each paper\n",
    "df['Author(s) ID'] = df['Author(s) ID'].str.split('; ')\n",
    "df['# of Authors'] = df['Author(s) ID'].apply(len)\n",
    "\n",
    "# Reorders the columns\n",
    "df = df[['Title', 'Authors', 'Author(s) ID', 'Year', 'Cited by', '# of Authors']]"
   ]
  },
  {
   "cell_type": "code",
   "execution_count": 4,
   "metadata": {},
   "outputs": [],
   "source": [
    "# Transforms all authors into nodes having attributes 'name', 'citations' and 'publications'\n",
    "nodes = {}\n",
    "for authors in authors_list:\n",
    "    for author in authors:\n",
    "        author = author.split(' (')\n",
    "        author[0] = author[0].split(', ')\n",
    "        # Puts author names in the format 'Firstname Lastname' if possible\n",
    "        if len(author[0]) > 1:\n",
    "            reordered_name = author[0][1] + ' ' + author[0][0]\n",
    "        else:\n",
    "            reordered_name = author[0][0]\n",
    "        nodes[author[1][:-1]] = {'name' : reordered_name, 'citations': 0, 'publications': 0}"
   ]
  },
  {
   "cell_type": "code",
   "execution_count": 5,
   "metadata": {},
   "outputs": [],
   "source": [
    "# Add all authors to the graph with the attributes defined above\n",
    "G.add_nodes_from(nodes.items())\n",
    "\n",
    "\"\"\" Extract author information from a publication and add it to the graph as an edge and as node attributes\"\"\"\n",
    "def add_edges_from_publication(publication):\n",
    "    for author in publication['Author(s) ID']:\n",
    "        G.nodes[author][\"citations\"] += int(publication['Cited by'])\n",
    "        G.nodes[author][\"publications\"] += 1\n",
    "    \n",
    "    # Add an edge between all pairs of authors in the publication\n",
    "    for pair in combinations(publication['Author(s) ID'], 2):\n",
    "        if pair in G.edges:\n",
    "            G[pair[0]][pair[1]][\"year\"].add(publication['Year'])\n",
    "        else:\n",
    "            G.add_edge(pair[0], pair[1], year = {publication['Year']})\n"
   ]
  },
  {
   "cell_type": "code",
   "execution_count": 6,
   "metadata": {},
   "outputs": [],
   "source": [
    "# Apply the function to the dataframe in order to populate the graph\n",
    "_ = df.apply(func = add_edges_from_publication, axis=1)"
   ]
  },
  {
   "cell_type": "markdown",
   "metadata": {},
   "source": [
    "## The Network\n",
    "\n",
    "From the steps taken previously we've built a co-authorship network that enables us to think more deeply about the dynamics of the academic relationships. For example, we can rank the authors by number of citations, publications or overall connections, we can see how dense the graph is and by extension how 'collaborative' the authors are. We can subgraph based on some criterion and visualize the result.\n",
    "\n"
   ]
  },
  {
   "cell_type": "markdown",
   "metadata": {},
   "source": [
    "### Ranking\n",
    "\n",
    "The authors were ranked by three criteria: number of citations, number of publication and total number of connections.\n",
    "\n",
    "The `TOP_NODES` variable is used as a filter to present the data in a less overwhelming way. The following code cells are in charge of the task of building a small dataframe with condensed information about the ranking of authors and the subgraph of 'G' with respect to the ranking system established."
   ]
  },
  {
   "cell_type": "code",
   "execution_count": null,
   "metadata": {},
   "outputs": [],
   "source": [
    "# Get the top authors by citations, publications and connections\n",
    "most_cited = sorted(G.nodes, key=lambda x: G.nodes[x][\"citations\"], reverse=True)\n",
    "most_prolific = sorted(G.nodes, key=lambda x: G.nodes[x][\"publications\"], reverse=True)\n",
    "most_connected = sorted(G.nodes, key=lambda x: G.degree[x], reverse=True)\n",
    "\n",
    "# Created a new dataframe with the top authors in each category and their numbers\n",
    "author_rankings = pd.DataFrame(columns = ['ID', 'Name', 'By citations', '# of citations', 'By publications', '# of publications', 'By connections', '# of connections'])\n",
    "author_rankings['ID'] = list(set(most_cited[:TOP_NODES]+most_prolific[:TOP_NODES]+most_connected[:TOP_NODES]))\n",
    "\n",
    "author_rankings[['Name', '# of citations', '# of publications']] = [list(G.nodes[node].values()) for node in author_rankings['ID']]\n",
    "author_rankings['By citations'] = [most_cited.index(node)+1 for node in author_rankings['ID']]\n",
    "author_rankings['By publications'] = [most_prolific.index(node)+1 for node in author_rankings['ID']]\n",
    "author_rankings['By connections'] = [most_connected.index(node)+1 for node in author_rankings['ID']]\n",
    "author_rankings['# of connections'] = [G.degree[node] for node in author_rankings['ID']]\n",
    "\n",
    "author_rankings.sort_values(by='Name', inplace=True, ignore_index=True)\n",
    "author_rankings"
   ]
  },
  {
   "cell_type": "markdown",
   "metadata": {},
   "source": [
    "### Subgraphing\n",
    "\n",
    "For the purposes of this assignment, the subgraphing strategy used differs a bit from the one suggested by the professor. Here we are analyzing the data from six perspectives:\n",
    "\n",
    "* Global;\n",
    "* Most cited;\n",
    "* Most prolific;\n",
    "* Most connected;\n",
    "* Global in 2020;\n",
    "* Global in 2024.\n",
    "\n",
    "The creation of the subgraphs is in the code cell below as well as each one's density."
   ]
  },
  {
   "cell_type": "code",
   "execution_count": null,
   "metadata": {},
   "outputs": [],
   "source": [
    "subgraphs = []\n",
    "for node_list in [most_cited, most_prolific, most_connected]:\n",
    "    temp_set = set()\n",
    "    for node in node_list[:TOP_NODES]:\n",
    "        temp_set.add(node)\n",
    "        for neighbor in G.neighbors(node):\n",
    "            temp_set.add(neighbor)\n",
    "    subgraphs.append(G.subgraph(temp_set))\n",
    "\n",
    "# Extract the edges for the temporal subgraphs\n",
    "edges_in_2020 = [(u,v) for u,v,d in G.edges(data=True) if 2020 in d['year']]\n",
    "edges_in_2024 = [(u,v) for u,v,d in G.edges(data=True) if 2024 in d['year']]\n",
    "\n",
    "nodes_in_2020 = list(set([node for edge in edges_in_2020 for node in edge]))\n",
    "nodes_in_2024 = list(set([node for edge in edges_in_2024 for node in edge]))\n",
    "\n",
    "subgraphs.append(G.subgraph(nodes_in_2020))\n",
    "subgraphs.append(G.subgraph(nodes_in_2024))\n",
    "\n",
    "C, P, K, G20, G24 = subgraphs\n",
    "\n",
    "global_density = nx.density(G)\n",
    "c_density = nx.density(C)\n",
    "p_density = nx.density(P)\n",
    "k_density = nx.density(K)\n",
    "g20_density = nx.density(G20)\n",
    "g24_density = nx.density(G24)\n",
    "\n",
    "print(f\"Global density: {global_density*100:.2f}%\")\n",
    "print(f\"Cited density: {c_density*100:.2f}%\")\n",
    "print(f\"Prolific density: {p_density*100:.2f}%\")\n",
    "print(f\"Connected density: {k_density*100:.2f}%\")\n",
    "print(f\"Global 2020 density: {g20_density*100:.2f}%\")\n",
    "print(f\"Global 2024 density: {g24_density*100:.2f}%\")"
   ]
  },
  {
   "cell_type": "markdown",
   "metadata": {},
   "source": [
    "### Stats\n",
    "\n",
    "In this section we discuss the numbers obtained from the analysis of the data in the graph\n",
    "\n",
    "* Density\n",
    "\n",
    "We can see from the output of the cell above that the overall density of the graph is quite low, something like `.32%`, but the 'niche' subgraphs are more dense, especially the one focused on the most connected reaching almost 50% of density. We can also see that 2024 even though is not over, shows a much more intricate network that the one from 4 years ago.\n",
    "\n",
    "* Degree Histogram\n",
    "\n",
    "There is an interesting observation to be made in regards the distribution of degrees in the data selected. The code cell below shows how degrees are distributed throughout the graph and we can see that there are some outliers and more importantly some unexpected peaks such as the occurrence of hundreds of authors having more than 300 connections."
   ]
  },
  {
   "cell_type": "code",
   "execution_count": null,
   "metadata": {},
   "outputs": [],
   "source": [
    "# Create a Series to store the degree histogram of the graph\n",
    "hist_G = pd.Series(nx.degree_histogram(G))\n",
    "\n",
    "print(f'The node with most edges has {len(hist_G)} edges')\n",
    "print(f'The most common number of edges is {hist_G.idxmax()} and {hist_G.max()} nodes have this number of edges')\n",
    "\n",
    "plt.figure(num='Hist', figsize=(15, 6))\n",
    "plt.title('Degree distribution of G')\n",
    "plt.bar(x = hist_G.index, height = hist_G, color = '#325745')\n",
    "plt.show()"
   ]
  },
  {
   "cell_type": "markdown",
   "metadata": {},
   "source": [
    "We might as well take a look and the number of authors to investigate how such discrepancies come to be. Running the following code we obtain the top 10 publications in more authors. That helps to explain a 'cluster' of authors with so many connections."
   ]
  },
  {
   "cell_type": "code",
   "execution_count": null,
   "metadata": {},
   "outputs": [],
   "source": [
    "df.sort_values(by='# of Authors', ascending=False).head(10)"
   ]
  },
  {
   "cell_type": "markdown",
   "metadata": {},
   "source": [
    "Finally, we can create a dataframe to organize key attributes of each of the 6 graphs/subgraphs analyzed."
   ]
  },
  {
   "cell_type": "code",
   "execution_count": null,
   "metadata": {},
   "outputs": [],
   "source": [
    "summary = pd.DataFrame(columns=['Graph', 'Nodes', 'Edges', 'Density (%)', 'Avg. Degree'])\n",
    "summary['Graph'] = ['Global', 'Cited', 'Prolific', 'Connected', '2020', '2024']\n",
    "for i, graph in enumerate([G, C, P, K, G20, G24]):\n",
    "    summary.at[i, 'Nodes'] = graph.number_of_nodes()\n",
    "    summary.at[i, 'Edges'] = graph.number_of_edges()\n",
    "    summary.at[i, 'Density (%)'] = nx.density(graph)*100\n",
    "    summary.at[i, 'Avg. Degree'] = sum(dict(graph.degree()).values())/graph.number_of_nodes()\n",
    "\n",
    "summary.set_index('Graph', inplace=True)\n",
    "summary\n"
   ]
  },
  {
   "cell_type": "markdown",
   "metadata": {},
   "source": [
    "### Visualizations\n",
    "\n",
    "This section is dedicated to view what was done so far. The following drawings show the visual aspects of the graphs. Due to the amount of data involved, the graphs will be restricted to only a few nodes and their neighbors. In the next code cells, we'll see the co-authorship network for: the 3 most cited authors, the 3 most prolific, the 3 most connected and the ego graph for the champion of connections highlighting two different years."
   ]
  },
  {
   "cell_type": "code",
   "execution_count": 12,
   "metadata": {},
   "outputs": [],
   "source": [
    "# Define the initial positions of the top nodes so we can highlight them in the visualizations\n",
    "a = [(3,3), (3, 12), (12,3)]\n",
    "initial_pos = {node : a[i] for i, node in enumerate(most_cited[:TOP_NODES])}"
   ]
  },
  {
   "cell_type": "code",
   "execution_count": null,
   "metadata": {},
   "outputs": [],
   "source": [
    "pos = nx.spring_layout(C, fixed=most_cited[:TOP_NODES], pos=initial_pos)\n",
    "labels = nx.get_node_attributes(C, 'name')\n",
    "\n",
    "plt.figure(1, figsize=(15, 15))\n",
    "plt.title(f\"Top {TOP_NODES} Most Cited Authors Network\")\n",
    "nx.draw_networkx_nodes(C, pos, node_size=50, node_color='red', nodelist=most_cited[:TOP_NODES])\n",
    "nx.draw_networkx_edges(C, pos, alpha=0.2)\n",
    "nx.draw_networkx_labels(C, labels= labels, pos=pos, font_size=6)\n",
    "plt.show()"
   ]
  },
  {
   "cell_type": "code",
   "execution_count": null,
   "metadata": {},
   "outputs": [],
   "source": [
    "initial_pos = {node : a[i] for i, node in enumerate(most_prolific[:TOP_NODES])}\n",
    "pos = nx.spring_layout(P, fixed = most_prolific[:TOP_NODES], pos = initial_pos, scale=3)\n",
    "labels = nx.get_node_attributes(P, 'name')\n",
    "\n",
    "plt.figure(2, figsize=(15, 15))\n",
    "plt.title(f\"Top {TOP_NODES} Most Prolific Authors Network\")\n",
    "nx.draw_networkx_nodes(P, pos, node_size=50, node_color='red', nodelist=most_prolific[:TOP_NODES])\n",
    "nx.draw_networkx_edges(P, pos, alpha=0.2)\n",
    "nx.draw_networkx_labels(P, labels= labels, pos=pos, font_size=6)\n",
    "plt.show()"
   ]
  },
  {
   "cell_type": "code",
   "execution_count": null,
   "metadata": {},
   "outputs": [],
   "source": [
    "initial_pos = {node : a[i] for i, node in enumerate(most_connected[:TOP_NODES])}\n",
    "pos = nx.circular_layout(K)\n",
    "labels = nx.get_node_attributes(K, 'name')\n",
    "\n",
    "plt.figure(3, figsize=(15, 15))\n",
    "plt.title(f\"Top {TOP_NODES} Most Connected Authors Network\")\n",
    "nx.draw_networkx_nodes(K, pos, node_size=50, node_color='red', nodelist=most_connected[:TOP_NODES])\n",
    "nx.draw_networkx_edges(K, pos, alpha=0.1)\n",
    "nx.draw_networkx_labels(K, labels= labels, pos=pos, font_size=6)\n",
    "plt.show()"
   ]
  },
  {
   "cell_type": "code",
   "execution_count": null,
   "metadata": {},
   "outputs": [],
   "source": [
    "# Create a new graph with the ego network of the most connected author\n",
    "ego = nx.ego_graph(G, most_connected[0])\n",
    "\n",
    "# Filter the edges and nodes by year\n",
    "year = 2024\n",
    "selected_edges1 = [(u, v) for u, v, e in ego.edges(data=True) if 'year' in e and year in e['year']]\n",
    "selected_nodes1 = set([node for edge in selected_edges1 for node in edge])\n",
    "selected_nodes1 = list(selected_nodes1)\n",
    "\n",
    "year = 2020\n",
    "selected_edges2 = [(u, v) for u, v, e in ego.edges(data=True) if 'year' in e and year in e['year']]\n",
    "selected_nodes2 = set([node for edge in selected_edges2 for node in edge])\n",
    "selected_nodes2 = list(selected_nodes2)\n",
    "\n",
    "# Create the visualization\n",
    "pos = nx.spring_layout(ego, seed=522)\n",
    "labels = nx.get_node_attributes(ego, 'name')\n",
    "\n",
    "plt.figure(4, figsize=(30, 15))\n",
    "plt.title(f\"Ego Network of {G.nodes[most_connected[0]]['name']} in 2020 (in orange) and 2024 (in lavender)\")\n",
    "\n",
    "nx.draw_networkx_nodes(ego, nodelist=selected_nodes1, pos=pos, node_size=5, node_color='red')\n",
    "nx.draw_networkx_edges(ego, edgelist=selected_edges1, pos=pos, alpha=0.1, edge_color='#f59542')\n",
    " \n",
    "nx.draw_networkx_nodes(ego, nodelist=selected_nodes2, pos=pos, node_size=5, node_color='red')\n",
    "nx.draw_networkx_edges(ego, edgelist=selected_edges2, pos=pos, alpha=0.1, edge_color='#5a42f5')\n",
    "nx.draw_networkx_labels(ego, labels= labels, pos=pos, font_size=6)\n",
    "\n",
    "plt.show()\n"
   ]
  },
  {
   "cell_type": "markdown",
   "metadata": {},
   "source": [
    "As we can see, the first two drawings have a totally different aspect from the one in the third visualization. It shows how dramatic the influence of that 300 or so authors publication is in the co-authorship network for the 3 most connected. Even when we take a look on a single person's (our champion of connections) graph, it is noticeably more dense than the initial visualizations."
   ]
  }
 ],
 "metadata": {
  "kernelspec": {
   "display_name": "Python 3",
   "language": "python",
   "name": "python3"
  },
  "language_info": {
   "codemirror_mode": {
    "name": "ipython",
    "version": 3
   },
   "file_extension": ".py",
   "mimetype": "text/x-python",
   "name": "python",
   "nbconvert_exporter": "python",
   "pygments_lexer": "ipython3",
   "version": "3.11.0"
  }
 },
 "nbformat": 4,
 "nbformat_minor": 2
}
